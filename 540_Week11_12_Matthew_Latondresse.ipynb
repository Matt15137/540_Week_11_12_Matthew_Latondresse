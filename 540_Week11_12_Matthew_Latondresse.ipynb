{
 "cells": [
  {
   "cell_type": "code",
   "execution_count": 36,
   "id": "bb94121d",
   "metadata": {},
   "outputs": [],
   "source": [
    "import sqlite3"
   ]
  },
  {
   "cell_type": "code",
   "execution_count": 49,
   "id": "ff84393e",
   "metadata": {},
   "outputs": [
    {
     "name": "stdout",
     "output_type": "stream",
     "text": [
      "Connection to database successful\n"
     ]
    }
   ],
   "source": [
    "# Step 1: Connect to petsDB\n",
    "db_path = 'C:/Users/mattl/OneDrive/Documents/GitHub/DSC540/petsdb'  \n",
    "connection = connect_to_database(db_path)"
   ]
  },
  {
   "cell_type": "code",
   "execution_count": 50,
   "id": "288610ee",
   "metadata": {},
   "outputs": [],
   "source": [
    "def connect_to_database(db_path):\n",
    "    try:\n",
    "        connection = sqlite3.connect(db_path)\n",
    "        print(\"Connection to database successful\")\n",
    "        return connection\n",
    "    except sqlite3.Error as e:\n",
    "        print(f\"Error connecting to database: {e}\")\n",
    "        return None"
   ]
  },
  {
   "cell_type": "code",
   "execution_count": 51,
   "id": "21ea9b5e",
   "metadata": {},
   "outputs": [
    {
     "name": "stdout",
     "output_type": "stream",
     "text": [
      "\n",
      "Step 2: Different Age Groups\n",
      "[(22,), (73,), (70,), (31,), (7,), (54,), (14,), (49,), (68,), (42,), (62,), (44,), (36,), (35,), (71,), (23,), (63,), (52,), (59,), (25,), (40,), (5,), (34,), (48,), (13,), (39,), (18,), (19,), (51,), (8,), (61,), (17,), (32,), (65,), (16,), (11,), (24,), (12,), (30,), (50,), (72,), (9,), (33,), (27,), (58,), (67,), (60,), (53,), (74,), (37,), (66,), (6,), (69,)]\n"
     ]
    }
   ],
   "source": [
    "# Step 2: Find different age groups\n",
    "query = \"SELECT DISTINCT age FROM persons;\"\n",
    "age_groups = execute_query(connection, query)\n",
    "print(\"\\nStep 2: Different Age Groups\")\n",
    "print(age_groups)\n"
   ]
  },
  {
   "cell_type": "code",
   "execution_count": 52,
   "id": "e2877f03",
   "metadata": {},
   "outputs": [
    {
     "name": "stdout",
     "output_type": "stream",
     "text": [
      "\n",
      "Step 3: Age Group with Maximum People\n",
      "[(73, 5)]\n"
     ]
    }
   ],
   "source": [
    "# Step 3: Find age group with the maximum number of people\n",
    "query = \"SELECT age, COUNT(*) as count FROM persons GROUP BY age ORDER BY count DESC LIMIT 1;\"\n",
    "max_age_group = execute_query(connection, query)\n",
    "print(\"\\nStep 3: Age Group with Maximum People\")\n",
    "print(max_age_group)\n"
   ]
  },
  {
   "cell_type": "code",
   "execution_count": 53,
   "id": "cdfa4a1b",
   "metadata": {},
   "outputs": [
    {
     "name": "stdout",
     "output_type": "stream",
     "text": [
      "\n",
      "Step 4: People without Last Name\n",
      "[(1, 'Erica', None, 22, 'south port', 2345678), (2, 'Jordi', None, 73, 'east port', 123456), (3, 'Chasity', None, 70, 'new port', 76856785), (4, 'Gregg', None, 31, 'new port', 76856785), (6, 'Cary', None, 73, 'new port', 76856785), (8, 'Francisca', None, 14, 'west port', 123456), (10, 'Raleigh', None, 68, 'new port', 2345678), (11, 'Maria', None, 42, 'west port', 123456), (12, 'Mariane', None, 62, 'south port', 9756543), (13, 'Mona', None, 44, 'south port', 76856785), (14, 'Kayla', None, 36, 'south port', 2345678), (15, 'Karlie', None, 35, 'west port', 123456), (16, 'Morris', None, 71, 'west port', 76856785), (17, 'Sandy', None, 23, 'east port', 2345678), (18, 'Hector', None, 63, 'east port', 9756543), (19, 'Hiram', None, 52, 'west port', 2345678), (20, 'Tressa', None, 59, 'new port', 123456), (21, 'Berry', None, 22, 'south port', 2345678), (22, 'Pearline', None, 73, 'new port', 9756543), (23, 'Maynard', None, 25, 'east port', 123456), (24, 'Dorian', None, 40, 'east port', 123456), (25, 'Mylene', None, 5, 'east port', 76856785), (26, 'Lafayette', None, 34, 'new port', 2345678), (29, 'Tara', None, 39, 'west port', 123456), (30, 'Destiny', None, 18, 'south port', 2345678), (31, 'Lesly', None, 31, 'west port', 123456), (32, 'Perry', None, 19, 'south port', 76856785), (35, 'Maritza', None, 73, 'east port', 9756543), (37, 'Grant', None, 61, 'east port', 76856785), (39, 'Laury', None, 17, 'east port', 9756543), (40, 'Name', None, 52, 'east port', 9756543), (41, 'Estefania', None, 32, 'new port', 76856785), (42, 'Destiney', None, 65, 'west port', 2345678), (43, 'Jaquelin', None, 73, 'west port', 9756543), (45, 'Alfonzo', None, 16, 'east port', 2345678), (46, 'Lisandro', None, 11, 'new port', 76856785), (49, 'Priscilla', None, 65, 'east port', 76856785), (50, 'Elenora', None, 11, 'new port', 76856785), (52, 'Rudolph', None, 14, 'east port', 76856785), (56, 'Ona', None, 35, 'east port', 9756543), (57, 'Rebeca', None, 50, 'new port', 76856785), (59, 'Sigurd', None, 12, 'west port', 76856785), (63, 'Alice', None, 8, 'west port', 76856785), (64, 'Dane', None, 24, 'west port', 9756543), (65, 'Judge', None, 17, 'south port', 76856785), (66, 'Allene', None, 9, 'new port', 9756543), (67, 'Jalen', None, 33, 'new port', 2345678), (70, 'Myron', None, 36, 'new port', 9756543), (73, 'Travon', None, 16, 'south port', 2345678), (74, 'Shayna', None, 60, 'new port', 2345678), (75, 'Myah', None, 14, 'east port', 2345678), (82, 'Letha', None, 44, 'new port', 9756543), (84, 'Felton', None, 74, 'east port', 2345678), (85, 'London', None, 66, 'east port', 9756543), (86, 'Koby', None, 31, 'west port', 9756543), (87, 'Golden', None, 35, 'east port', 76856785), (89, 'Anissa', None, 8, 'south port', 76856785), (91, 'Sid', None, 22, 'west port', 123456), (96, 'Ernesto', None, 69, 'east port', 9756543), (97, 'Josianne', None, 14, 'west port', 76856785)]\n"
     ]
    }
   ],
   "source": [
    "# Step 4: Find people without a last name\n",
    "query = \"SELECT * FROM persons WHERE last_name IS NULL;\"\n",
    "no_last_name_people = execute_query(connection, query)\n",
    "print(\"\\nStep 4: People without Last Name\")\n",
    "print(no_last_name_people)"
   ]
  },
  {
   "cell_type": "code",
   "execution_count": 54,
   "id": "4e48f375",
   "metadata": {},
   "outputs": [
    {
     "name": "stdout",
     "output_type": "stream",
     "text": [
      "\n",
      "Step 5: People with More Than One Pet\n",
      "[('Jordi', None, 3), ('Tony', 'Lindgren', 3), ('Cary', None, 2), ('Gabe', 'Thompson', 3), ('Katelyn', 'Torphy', 2), ('Raleigh', None, 3), ('Mona', None, 2), ('Kayla', None, 2), ('Morris', None, 2), ('Hector', None, 2), ('Tressa', None, 2), ('Berry', None, 3), ('Dorian', None, 2), ('Mylene', None, 3), ('Lafayette', None, 2), ('Friedrich', 'Wunsch', 5), ('Domenica', 'Lakin', 2), ('Lesly', None, 2), ('Keyon', 'Upton', 3), ('Maritza', None, 3), ('Ivory', 'Sawayn', 3), ('Grant', None, 4), ('Salma', 'Terry', 2), ('Laury', None, 2), ('Name', None, 4), ('Destiney', None, 3), ('Jaquelin', None, 3), ('Alfonzo', None, 2), ('Timmothy', 'Tillman', 2), ('Priscilla', None, 2), ('Elenora', None, 3), ('Wendell', 'Sauer', 3), ('Gabriella', 'Kertzmann', 2), ('Ona', None, 5), ('Rebeca', None, 3), ('Lou', 'Bradtke', 2), ('Nicklaus', 'Purdy', 3), ('Dane', None, 3), ('Jalen', None, 2), ('Koby', None, 2), ('Hilma', 'Waelchi', 3), ('Otilia', 'Gleason', 3), ('Adrian', 'Schinner', 2)]\n"
     ]
    }
   ],
   "source": [
    "# Step 5: Find people with more than one pet\n",
    "query = \"SELECT p.first_name, p.last_name, COUNT(*) as pet_count \" \\\n",
    "        \"FROM persons p JOIN pets pet ON p.id = pet.owner_id GROUP BY p.id HAVING pet_count > 1;\"\n",
    "multiple_pets_owners = execute_query(connection, query)\n",
    "print(\"\\nStep 5: People with More Than One Pet\")\n",
    "print(multiple_pets_owners)"
   ]
  },
  {
   "cell_type": "code",
   "execution_count": 55,
   "id": "5e92154d",
   "metadata": {},
   "outputs": [
    {
     "name": "stdout",
     "output_type": "stream",
     "text": [
      "\n",
      "Step 6: Pets that Received Treatment\n",
      "[(36,)]\n"
     ]
    }
   ],
   "source": [
    "# Step 6: Find pets that received treatment\n",
    "query = \"SELECT COUNT(*) FROM pets WHERE treatment_done = 1;\"\n",
    "treated_pets_count = execute_query(connection, query)\n",
    "print(\"\\nStep 6: Pets that Received Treatment\")\n",
    "print(treated_pets_count)"
   ]
  },
  {
   "cell_type": "code",
   "execution_count": 56,
   "id": "c24781a6",
   "metadata": {},
   "outputs": [
    {
     "name": "stdout",
     "output_type": "stream",
     "text": [
      "\n",
      "Step 7: Treated Pets with Known Type\n",
      "[(16,)]\n"
     ]
    }
   ],
   "source": [
    "# Step 7: Find pets that received treatment and have a known type\n",
    "query = \"SELECT COUNT(*) FROM pets WHERE treatment_done = 1 AND pet_type IS NOT NULL;\"\n",
    "treated_pets_known_type_count = execute_query(connection, query)\n",
    "print(\"\\nStep 7: Treated Pets with Known Type\")\n",
    "print(treated_pets_known_type_count)\n"
   ]
  },
  {
   "cell_type": "code",
   "execution_count": 57,
   "id": "95a489f6",
   "metadata": {},
   "outputs": [
    {
     "name": "stdout",
     "output_type": "stream",
     "text": [
      "\n",
      "Step 8: Pets from East Port\n",
      "[(49,)]\n"
     ]
    }
   ],
   "source": [
    "# Step 8: Find pets from the city called east port\n",
    "query = \"SELECT COUNT(*) FROM pets p JOIN persons per ON p.owner_id = per.id WHERE per.city = 'east port';\"\n",
    "east_port_pets_count = execute_query(connection, query)\n",
    "print(\"\\nStep 8: Pets from East Port\")\n",
    "print(east_port_pets_count)"
   ]
  },
  {
   "cell_type": "code",
   "execution_count": 58,
   "id": "47c56754",
   "metadata": {},
   "outputs": [
    {
     "name": "stdout",
     "output_type": "stream",
     "text": [
      "\n",
      "Step 9: Treated Pets from East Port\n",
      "[(11,)]\n"
     ]
    }
   ],
   "source": [
    "# Step 9: Find pets from the city called east port that received treatment\n",
    "query = \"SELECT COUNT(*) FROM pets p JOIN persons per ON p.owner_id = per.id \" \\\n",
    "        \"WHERE per.city = 'east port' AND p.treatment_done = 1;\"\n",
    "treated_east_port_pets_count = execute_query(connection, query)\n",
    "print(\"\\nStep 9: Treated Pets from East Port\")\n",
    "print(treated_east_port_pets_count)"
   ]
  },
  {
   "cell_type": "code",
   "execution_count": null,
   "id": "cf025ff4",
   "metadata": {},
   "outputs": [],
   "source": []
  }
 ],
 "metadata": {
  "kernelspec": {
   "display_name": "Python 3 (ipykernel)",
   "language": "python",
   "name": "python3"
  },
  "language_info": {
   "codemirror_mode": {
    "name": "ipython",
    "version": 3
   },
   "file_extension": ".py",
   "mimetype": "text/x-python",
   "name": "python",
   "nbconvert_exporter": "python",
   "pygments_lexer": "ipython3",
   "version": "3.10.9"
  }
 },
 "nbformat": 4,
 "nbformat_minor": 5
}
